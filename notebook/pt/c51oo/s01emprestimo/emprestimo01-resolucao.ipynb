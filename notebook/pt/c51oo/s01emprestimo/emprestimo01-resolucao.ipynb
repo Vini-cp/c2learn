{
 "cells": [
  {
   "cell_type": "markdown",
   "metadata": {},
   "source": [
    "# Exercício do Empréstimo (resolução)\n",
    "\n",
    "![Enunciado](poo01-orientacao-objetos-exercicio-financiamento.png)"
   ]
  },
  {
   "cell_type": "markdown",
   "metadata": {},
   "source": [
    "## Versão sem modularização"
   ]
  },
  {
   "cell_type": "code",
   "execution_count": 3,
   "metadata": {},
   "outputs": [
    {
     "name": "stdout",
     "output_type": "stream",
     "text": [
      "O valor da parcela 1 eh 200.00\n",
      "O valor da parcela 2 eh 202.00\n",
      "O valor da parcela 3 eh 204.02\n",
      "O valor da parcela 4 eh 206.06\n",
      "O valor da parcela 5 eh 208.12\n"
     ]
    }
   ],
   "source": [
    "#include <stdio.h>\n",
    "\n",
    "int main() {\n",
    "    float s = 200;\n",
    "    int n = 5;\n",
    "    float j = 1;\n",
    "    \n",
    "    float p = s;\n",
    "    for (int i = 1; i <= n; i++) {\n",
    "        printf(\"O valor da parcela %d eh %3.2f\\n\", i, p);\n",
    "        p = p + (p * (j/100));\n",
    "    }   \n",
    "}"
   ]
  },
  {
   "cell_type": "markdown",
   "metadata": {},
   "source": [
    "## Escrevendo um Módulo (parte 2)\n",
    "\n",
    "Resolução da parte 2 (invertida propositalmente para manter uma linha de raciocícinio).\n",
    "\n",
    "Dado um empréstimo X, escreva um módulo que ao ser chamado retorne a próxima parcela a ser paga. Use o mínimo de parâmetros possíveis:\n",
    "* evite informar recorrentemente dados sobre as características do empréstimo;\n",
    "* evite usar informações de controle (e.g., parcela corrente) como parâmetro."
   ]
  },
  {
   "cell_type": "code",
   "execution_count": 4,
   "metadata": {},
   "outputs": [
    {
     "name": "stdout",
     "output_type": "stream",
     "text": [
      "O valor da parcela 1 eh 200.00\n",
      "O valor da parcela 2 eh 202.00\n",
      "O valor da parcela 3 eh 204.02\n",
      "O valor da parcela 4 eh 206.06\n",
      "O valor da parcela 5 eh 208.12\n"
     ]
    }
   ],
   "source": [
    "#include <stdio.h>\n",
    "\n",
    "float es;\n",
    "int   en;\n",
    "float ej;\n",
    "int   corrente;\n",
    "float p;\n",
    "\n",
    "void novoEmprestimo(float s, int n, float j) {\n",
    "    es = s;\n",
    "    en = n;\n",
    "    ej = j;\n",
    "    corrente = 1;\n",
    "    p = s;\n",
    "}\n",
    "\n",
    "float proximaParcela() {\n",
    "    float retorno = p;\n",
    "    corrente++;\n",
    "    if (corrente <= en)\n",
    "        p = p + (p * (ej/100));\n",
    "    else\n",
    "        p = 0;\n",
    "    return retorno;\n",
    "}\n",
    "\n",
    "#include <stdio.h>\n",
    "\n",
    "int main() {\n",
    "    \n",
    "    novoEmprestimo(200, 5, 1);\n",
    "    \n",
    "    int i = 1;\n",
    "    float p = proximaParcela();\n",
    "    while (p > 0) {\n",
    "        printf(\"O valor da parcela %d eh %3.2f\\n\", i, p);\n",
    "        p = proximaParcela();\n",
    "        i++;\n",
    "    }   \n",
    "}"
   ]
  },
  {
   "cell_type": "markdown",
   "metadata": {},
   "source": [
    "## Removendo variáveis globais (parte 1)\n",
    "\n",
    "Resolução da parte 1."
   ]
  },
  {
   "cell_type": "code",
   "execution_count": 5,
   "metadata": {},
   "outputs": [
    {
     "name": "stdout",
     "output_type": "stream",
     "text": [
      "O valor da parcela 1 eh 200.00\n",
      "O valor da parcela 2 eh 202.00\n",
      "O valor da parcela 3 eh 204.02\n",
      "O valor da parcela 4 eh 206.06\n",
      "O valor da parcela 5 eh 208.12\n"
     ]
    }
   ],
   "source": [
    "#include <stdio.h>\n",
    "\n",
    "void novoEmprestimo(float s, int n, float j, int *corrente, float *p) {\n",
    "    *corrente = 1;\n",
    "    *p = s;\n",
    "}\n",
    "\n",
    "void proximaParcela(float s, int n, float j, int *corrente, float *p) {\n",
    "    (*corrente)++;\n",
    "    if (*corrente <= n)\n",
    "        *p = *p + (*p * (j/100));\n",
    "    else\n",
    "        *p = 0;\n",
    "}\n",
    "\n",
    "#include <stdio.h>\n",
    "\n",
    "int main() {\n",
    "    int corrente;\n",
    "    float p;\n",
    "    \n",
    "    novoEmprestimo(200, 5, 1, &corrente, &p);\n",
    "    \n",
    "    int i = 1;\n",
    "    while (p > 0) {\n",
    "        printf(\"O valor da parcela %d eh %3.2f\\n\", i, p);\n",
    "        proximaParcela(200, 5, 1, &corrente, &p);\n",
    "        i++;\n",
    "    }   \n",
    "}"
   ]
  },
  {
   "cell_type": "markdown",
   "metadata": {},
   "source": [
    "## Variáveis estáticas para a manutenção do estado (parte 2)\n",
    "\n",
    "Retomando aspectos da parte 2 de redução de parâmetros."
   ]
  },
  {
   "cell_type": "code",
   "execution_count": 6,
   "metadata": {},
   "outputs": [
    {
     "name": "stdout",
     "output_type": "stream",
     "text": [
      "O valor da parcela 1 eh 200.00\n",
      "O valor da parcela 2 eh 202.00\n",
      "O valor da parcela 3 eh 204.02\n",
      "O valor da parcela 4 eh 206.06\n",
      "O valor da parcela 5 eh 208.12\n"
     ]
    }
   ],
   "source": [
    "#include <stdio.h>\n",
    "\n",
    "float proximaParcela(float s, int n, float j) {\n",
    "    static int corrente = 1;\n",
    "    static float p;\n",
    "    if (corrente == 1)\n",
    "        p = s;\n",
    "    else if (corrente <= n)\n",
    "        p = p + (p * (j/100));\n",
    "    else\n",
    "        p = 0;\n",
    "    corrente++;\n",
    "    return p;\n",
    "}\n",
    "\n",
    "int main() {\n",
    "    int corrente;\n",
    "    \n",
    "    float p = proximaParcela(200, 5, 1);\n",
    "    \n",
    "    int i = 1;\n",
    "    while (p > 0) {\n",
    "        printf(\"O valor da parcela %d eh %3.2f\\n\", i, p);\n",
    "        p = proximaParcela(200, 5, 1);\n",
    "        i++;\n",
    "    }   \n",
    "}"
   ]
  },
  {
   "cell_type": "markdown",
   "metadata": {},
   "source": [
    "## Agrupando variáveis de estado em uma estrutura (parte 3)\n",
    "\n",
    "Preparação para a parte 3."
   ]
  },
  {
   "cell_type": "code",
   "execution_count": 7,
   "metadata": {},
   "outputs": [
    {
     "name": "stdout",
     "output_type": "stream",
     "text": [
      "O valor da parcela 1 eh 200.00\n",
      "O valor da parcela 2 eh 202.00\n",
      "O valor da parcela 3 eh 204.02\n",
      "O valor da parcela 4 eh 206.06\n",
      "O valor da parcela 5 eh 208.12\n"
     ]
    }
   ],
   "source": [
    "#include <stdio.h>\n",
    "\n",
    "typedef struct {\n",
    "    float s;\n",
    "    int   n;\n",
    "    float j;\n",
    "    int   corrente;\n",
    "    float p;\n",
    "} Emprestimo;\n",
    "\n",
    "void novoEmprestimo(Emprestimo *umEmprestimo) {\n",
    "    umEmprestimo->corrente = 1;\n",
    "    umEmprestimo->p = umEmprestimo->s;\n",
    "}\n",
    "\n",
    "void proximaParcela(Emprestimo *umEmprestimo) {\n",
    "    (umEmprestimo->corrente)++;\n",
    "    if (umEmprestimo->corrente <= umEmprestimo->n)\n",
    "        umEmprestimo->p = umEmprestimo->p + (umEmprestimo->p * (umEmprestimo->j/100));\n",
    "    else\n",
    "        umEmprestimo->p = 0;\n",
    "}\n",
    "\n",
    "#include <stdio.h>\n",
    "\n",
    "int main() {\n",
    "    Emprestimo umEmprestimo;\n",
    "    \n",
    "    umEmprestimo.s = 200;\n",
    "    umEmprestimo.n = 5;\n",
    "    umEmprestimo.j = 1;\n",
    "    \n",
    "    novoEmprestimo(&umEmprestimo);\n",
    "    \n",
    "    int i = 1;\n",
    "    while (umEmprestimo.p > 0) {\n",
    "        printf(\"O valor da parcela %d eh %3.2f\\n\", i, umEmprestimo.p);\n",
    "        proximaParcela(&umEmprestimo);\n",
    "        i++;\n",
    "    }   \n",
    "}"
   ]
  },
  {
   "cell_type": "markdown",
   "metadata": {},
   "source": [
    "## Múltiplos Empréstimos (parte 3)\n",
    "\n",
    "Considere que há múltiplos empréstimos que podem ser controlados em paralelo. O seu módulo deve sempre ser capaz de informar a pŕoxima parcela de qualquer um dele, mantendo um controle para cada empréstimos separadamente."
   ]
  },
  {
   "cell_type": "code",
   "execution_count": 9,
   "metadata": {},
   "outputs": [
    {
     "name": "stdout",
     "output_type": "stream",
     "text": [
      "Emprestimo 1: parcela 1 eh 200.00\n",
      "Emprestimo 2: parcela 1 eh 500.00\n",
      "Emprestimo 1: parcela 2 eh 202.00\n",
      "Emprestimo 2: parcela 2 eh 510.00\n",
      "Emprestimo 1: parcela 3 eh 204.02\n",
      "Emprestimo 2: parcela 3 eh 520.20\n",
      "Emprestimo 1: parcela 4 eh 206.06\n",
      "Emprestimo 2: parcela 4 eh 530.60\n",
      "Emprestimo 1: parcela 5 eh 208.12\n",
      "Emprestimo 2: parcela 5 eh 541.22\n",
      "Emprestimo 2: parcela 6 eh 552.04\n",
      "Emprestimo 2: parcela 7 eh 563.08\n"
     ]
    }
   ],
   "source": [
    "#include <stdio.h>\n",
    "\n",
    "typedef struct {\n",
    "    float s;\n",
    "    int   n;\n",
    "    float j;\n",
    "    int   corrente;\n",
    "    float p;\n",
    "} Emprestimo;\n",
    "\n",
    "Emprestimo novoEmprestimo(float s, int n, float j) {\n",
    "    Emprestimo umEmprestimo;\n",
    "    umEmprestimo.s = s;\n",
    "    umEmprestimo.n = n;\n",
    "    umEmprestimo.j = j;\n",
    "    umEmprestimo.corrente = 1;\n",
    "    umEmprestimo.p = s;\n",
    "    return umEmprestimo;\n",
    "}\n",
    "\n",
    "void proximaParcela(Emprestimo *umEmprestimo) {\n",
    "    (umEmprestimo->corrente)++;\n",
    "    if (umEmprestimo->corrente <= umEmprestimo->n)\n",
    "        umEmprestimo->p = umEmprestimo->p + (umEmprestimo->p * (umEmprestimo->j/100));\n",
    "    else\n",
    "        umEmprestimo->p = 0;\n",
    "}\n",
    "\n",
    "#include <stdio.h>\n",
    "\n",
    "int main() {\n",
    "    Emprestimo emprestimo1,\n",
    "               emprestimo2;\n",
    "    \n",
    "    emprestimo1 = novoEmprestimo(200, 5, 1);\n",
    "    emprestimo2 = novoEmprestimo(500, 7, 2);\n",
    "    \n",
    "    int i = 1;\n",
    "    while (emprestimo1.p > 0 || emprestimo2.p > 0) {\n",
    "        if (emprestimo1.p > 0)\n",
    "            printf(\"Emprestimo 1: parcela %d eh %3.2f\\n\", i, emprestimo1.p);\n",
    "        if (emprestimo2.p > 0)\n",
    "            printf(\"Emprestimo 2: parcela %d eh %3.2f\\n\", i, emprestimo2.p);\n",
    "        proximaParcela(&emprestimo1);\n",
    "        proximaParcela(&emprestimo2);\n",
    "        i++;\n",
    "    }   \n",
    "}"
   ]
  }
 ],
 "metadata": {
  "kernelspec": {
   "display_name": "C",
   "language": "c",
   "name": "c"
  },
  "language_info": {
   "file_extension": ".c",
   "mimetype": "text/plain",
   "name": "c"
  }
 },
 "nbformat": 4,
 "nbformat_minor": 2
}
