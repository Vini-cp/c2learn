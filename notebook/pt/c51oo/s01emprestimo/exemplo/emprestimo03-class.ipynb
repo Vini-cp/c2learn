{
 "cells": [
  {
   "cell_type": "markdown",
   "metadata": {},
   "source": [
    "# Novo kernel C++\n",
    "\n",
    "Este novo kernel inclui um facilitador em que você pode escrever comando em C++ sem a função `main`. Este é um facilitador do Jupyter. Em um código C++ completo você teria que escrever a função.\n",
    "\n",
    "Substituiremos o `printf` por uma outra notação usando o `std::cout`. O `std::cout` representa a saída e você usa dois sinais de menor `<<` para canalizar o que quer mostrar no console para ela. Como o exemplo a seguir.\n",
    "\n",
    "Por enquanto, não se preocupe em entender o mecanismo de funcionamento, que será apresentado no futuro.\n",
    "\n",
    "Todas as células são partes de um mesmo programa. Desse modo a importação do `iostream` feita a seguir servirá para as demais células."
   ]
  },
  {
   "cell_type": "code",
   "execution_count": 1,
   "metadata": {},
   "outputs": [
    {
     "name": "stdout",
     "output_type": "stream",
     "text": [
      "o dinossauro pulou na lama"
     ]
    }
   ],
   "source": [
    "#include <iostream>\n",
    "\n",
    "std::cout << \"o dinossauro pulou na lama\";"
   ]
  },
  {
   "cell_type": "markdown",
   "metadata": {},
   "source": [
    "## Usando o `std::cout`\n",
    "\n",
    "Você pode concatenar uma variável em uma string e o C++ resolve tudo para você:"
   ]
  },
  {
   "cell_type": "code",
   "execution_count": 2,
   "metadata": {},
   "outputs": [
    {
     "name": "stdout",
     "output_type": "stream",
     "text": [
      "Valor da variavel: 5"
     ]
    }
   ],
   "source": [
    "int var = 5;\n",
    "std::cout << \"Valor da variavel: \" << var;"
   ]
  },
  {
   "cell_type": "markdown",
   "metadata": {},
   "source": [
    "## Próxima linha\n",
    "\n",
    "Também pode usar `std::endl` para indicar próxima linha:"
   ]
  },
  {
   "cell_type": "code",
   "execution_count": 3,
   "metadata": {},
   "outputs": [
    {
     "name": "stdout",
     "output_type": "stream",
     "text": [
      "linha 1\n",
      "linha 2"
     ]
    }
   ],
   "source": [
    "std::cout << \"linha 1\" << std::endl << \"linha 2\";"
   ]
  },
  {
   "cell_type": "markdown",
   "metadata": {},
   "source": [
    "# Classe\n",
    "\n",
    "Inicialmente, vamos pensar em classe como uma estratégia especial de modularização. Adiante, veremos que ela é mais do que isso.\n",
    "\n",
    "Vamos retomar a struct construída no bloco anterior contendo funções:\n",
    "```c\n",
    "typedef struct Emprestimo {\n",
    "    float s;\n",
    "    int   n;\n",
    "    float j;\n",
    "    int   corrente;\n",
    "    float p;\n",
    "    float (*proximaParcela)(struct Emprestimo*);\n",
    "} Emprestimo;\n",
    "```\n",
    "\n",
    "Substituiremos a struct por uma nova construção que chamaremos de classe. A classe consegue ir além da struct pois ela pode literalmente encapsular as próprias funções:\n",
    "\n",
    "```cpp\n",
    "class Emprestimo {\n",
    "    float s;\n",
    "    int   n;\n",
    "    float j;\n",
    "    int   corrente;\n",
    "    float p;\n",
    "    public:\n",
    "        Emprestimo(float ps, int pn, float pj) { ... }\n",
    "        float proximaParcela() { ... }\n",
    "};\n",
    "```\n",
    "\n",
    "Os campos da classe (s, n, j, corrente e p) se chamam `atributos`. Adiante, veremos a importância de chamá-los assim, quando as classes forem associadas à forma como pensamos o mundo."
   ]
  },
  {
   "cell_type": "code",
   "execution_count": 2,
   "metadata": {},
   "outputs": [
    {
     "name": "stdout",
     "output_type": "stream",
     "text": [
      "Emprestimo 1: parcela 1 eh 200\n",
      "Emprestimo 2: parcela 1 eh 500\n",
      "Emprestimo 1: parcela 2 eh 202\n",
      "Emprestimo 2: parcela 2 eh 510\n",
      "Emprestimo 1: parcela 3 eh 204.02\n",
      "Emprestimo 2: parcela 3 eh 520.2\n",
      "Emprestimo 1: parcela 4 eh 206.06\n",
      "Emprestimo 2: parcela 4 eh 530.604\n",
      "Emprestimo 1: parcela 5 eh 208.121\n",
      "Emprestimo 2: parcela 5 eh 541.216\n",
      "Emprestimo 2: parcela 6 eh 552.04\n",
      "Emprestimo 2: parcela 7 eh 563.081\n"
     ]
    }
   ],
   "source": [
    "#include <iostream>\n",
    "\n",
    "class Emprestimo {\n",
    "    float s;\n",
    "    int   n;\n",
    "    float j;\n",
    "    int   corrente;\n",
    "    float p;\n",
    "    public:\n",
    "        Emprestimo(float ps, int pn, float pj) {\n",
    "            s = ps;\n",
    "            n = pn;\n",
    "            j = pj;\n",
    "            corrente = 1;\n",
    "            p = ps;\n",
    "        }\n",
    "\n",
    "        float proximaParcela() {\n",
    "            float retorno = p;\n",
    "            corrente++;\n",
    "            if (corrente <= n)\n",
    "                p = p + (p * (j/100));\n",
    "            else\n",
    "                p = 0;\n",
    "            return retorno;\n",
    "        }\n",
    "};\n",
    "\n",
    "// codigo principal\n",
    "\n",
    "Emprestimo emprestimo1(200, 5, 1),\n",
    "           emprestimo2(500, 7, 2);\n",
    "\n",
    "int i = 1;\n",
    "float p1 = emprestimo1.proximaParcela();\n",
    "float p2 = emprestimo2.proximaParcela();\n",
    "while (p1 > 0 || p2 > 0) {\n",
    "    if (p1 > 0)\n",
    "        std::cout << \"Emprestimo 1: parcela \" << i << \" eh \" << p1 << std::endl;\n",
    "    if (p2 > 0)\n",
    "        std::cout << \"Emprestimo 2: parcela \" << i << \" eh \" << p2 << std::endl;\n",
    "    p1 = emprestimo1.proximaParcela();\n",
    "    p2 = emprestimo2.proximaParcela();\n",
    "    i++;\n",
    "}"
   ]
  },
  {
   "cell_type": "markdown",
   "metadata": {},
   "source": [
    "# Objeto - instância da Classe\n",
    "\n",
    "As funções de uma classe são chamadas de métodos. Diferentemente da struct, cada método ganha um contexto dentro da classe, ou seja, ela passa a ter acesso aos valores dos atributos da instância da classe a que pertence.\n",
    "\n",
    "Veja como o método `proximaParcela` se refere aos atributos:\n",
    "\n",
    "```cpp\n",
    "float proximaParcela() {\n",
    "    int retorno = p;\n",
    "    corrente++;\n",
    "    if (corrente <= n)\n",
    "        p = p + (p * (j/100));\n",
    "    else\n",
    "        p = 0;\n",
    "    return retorno;\n",
    "}\n",
    "```\n",
    "\n",
    "Veja como a função `proximaParcela` da struct fazia a mesma coisa:\n",
    "```c\n",
    "float proximaParcela(struct Emprestimo *umEmprestimo) {\n",
    "    float retorno = umEmprestimo->p;\n",
    "    if (umEmprestimo->corrente < umEmprestimo->n)\n",
    "        umEmprestimo->p = umEmprestimo->p + (umEmprestimo->p * (umEmprestimo->j/100));\n",
    "    else\n",
    "        umEmprestimo->p = 0;\n",
    "    (umEmprestimo->corrente)++;\n",
    "    return retorno;\n",
    "}\n",
    "```\n",
    "\n",
    "Na struct foi necessário se falar explicitamente que a função está trabalhando com a struct `umEmprestimo` recebida como parâmetro.\n",
    "\n",
    "Como o método da classe sabe com quem está trabalhando?\n",
    "\n",
    "## Construindo um objeto\n",
    "\n",
    "Há um método especial chamado construtor que recebe o mesmo nome da classe. Nesse caso, o método construtor se chama `Emprestimo`. Quando você declara uma variável do tipo `Emprestimo` esse método é chamado implicitamente. Por isso você teve que informar parâmetros na hora que declarou.\n",
    "\n",
    "```cpp\n",
    "Emprestimo emprestimo1(200, 5, 1);\n",
    "```\n",
    "\n",
    "O construtor, ao ser chamado, criará um objeto. Cada objeto pode ser pensado como instância de uma classe, de forma semelhante ao modo como você cria uma instância de uma struct. Ou seja, será criado um espaço em memória específico para os atributos deste objeto. Chamaremos este espaço de atributos da instância, ou atributos do objeto.\n",
    "\n",
    "Note que o construtor está dando valores aos atributos do objeto.\n",
    "\n",
    "```cpp\n",
    "Emprestimo(float ps, int pn, float pj) {\n",
    "    s = ps;\n",
    "    n = pn;\n",
    "    j = pj;\n",
    "    corrente = 1;\n",
    "    p = ps;\n",
    "}\n",
    "```\n",
    "\n",
    "Os atributos de um objeto são reconhecidos automaticamente pelo método no momento de sua ativação. Ou seja, na chamada a seguir, o método `proximaParcela` saberá que terá que manipular os atributos do objeto colocado em `emprestimo1`:\n",
    "\n",
    "```cpp\n",
    "float p1 = emprestimo1.proximaParcela();\n",
    "```\n",
    "\n",
    "Do mesmo modo, na instrução `proximaParcela` sabe que trabalhará com os atributos colocados em `emprestimo2`. É isso que chamamos de contexto.\n",
    "\n",
    "```cpp\n",
    "float p2 = emprestimo2.proximaParcela();\n",
    "```"
   ]
  }
 ],
 "metadata": {
  "kernelspec": {
   "display_name": "C++17",
   "language": "C++17",
   "name": "xeus-cling-cpp17"
  },
  "language_info": {
   "codemirror_mode": "text/x-c++src",
   "file_extension": ".cpp",
   "mimetype": "text/x-c++src",
   "name": "c++",
   "version": "-std=c++17"
  }
 },
 "nbformat": 4,
 "nbformat_minor": 2
}
