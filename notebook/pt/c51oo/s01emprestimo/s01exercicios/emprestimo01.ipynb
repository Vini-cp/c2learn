{
 "cells": [
  {
   "cell_type": "markdown",
   "metadata": {},
   "source": [
    "# Exercício do Empréstimo\n",
    "\n",
    "![Enunciado](poo01-orientacao-objetos-exercicio-financiamento.png)"
   ]
  },
  {
   "cell_type": "markdown",
   "metadata": {},
   "source": [
    "## Exercício Parte 1 - Escrevendo um Módulo\n",
    "\n",
    "Dado o problema descrito, escreva um módulo que ao ser chamado retorne a próxima parcela a ser paga."
   ]
  },
  {
   "cell_type": "code",
   "execution_count": null,
   "metadata": {},
   "outputs": [],
   "source": []
  },
  {
   "cell_type": "markdown",
   "metadata": {},
   "source": [
    "## Exercício Parte 2 - Minimizando os Parâmetros\n",
    "\n",
    "Modifique o módulo para que o cliente (que chama o módulo) use o mínimo de parâmetros possíveis:\n",
    ". evite informar recorrentemente dados sobre as características do empréstimo;\n",
    ". evite usar informações de controle (e.g., parcela corrente) como parâmetro."
   ]
  },
  {
   "cell_type": "code",
   "execution_count": null,
   "metadata": {},
   "outputs": [],
   "source": []
  },
  {
   "cell_type": "markdown",
   "metadata": {},
   "source": [
    "## Exercício Parte 3 - Múltiplos Empréstimos\n",
    "\n",
    "Considere que há múltiplos empréstimos que podem ser controlados em paralelo. O seu módulo deve sempre ser capaz de informar a pŕoxima parcela de qualquer um dele, mantendo um controle para cada empréstimos separadamente."
   ]
  },
  {
   "cell_type": "code",
   "execution_count": null,
   "metadata": {},
   "outputs": [],
   "source": []
  }
 ],
 "metadata": {
  "kernelspec": {
   "display_name": "C",
   "language": "c",
   "name": "c"
  },
  "language_info": {
   "file_extension": ".c",
   "mimetype": "text/plain",
   "name": "c"
  }
 },
 "nbformat": 4,
 "nbformat_minor": 2
}
