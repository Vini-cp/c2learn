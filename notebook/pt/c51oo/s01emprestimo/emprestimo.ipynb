{
 "cells": [
  {
   "cell_type": "markdown",
   "metadata": {},
   "source": [
    "# Exercício do Empréstimos"
   ]
  },
  {
   "cell_type": "markdown",
   "metadata": {},
   "source": [
    "## Teste da linguagem C\n",
    "\n",
    "Vide sobre o Kernel em <https://github.com/QuantStack/xeus-cling>."
   ]
  },
  {
   "cell_type": "code",
   "execution_count": 1,
   "metadata": {},
   "outputs": [
    {
     "name": "stdout",
     "output_type": "stream",
     "text": [
      "Hello World!"
     ]
    }
   ],
   "source": [
    "#include <stdio.h>\n",
    "\n",
    "int main() {\n",
    "    printf(\"Hello World!\");\n",
    "}"
   ]
  },
  {
   "cell_type": "markdown",
   "metadata": {},
   "source": [
    "## Exemplo mais avançado"
   ]
  },
  {
   "cell_type": "code",
   "execution_count": 7,
   "metadata": {},
   "outputs": [
    {
     "name": "stdout",
     "output_type": "stream",
     "text": [
      "A raiz quadrada de 4.000000 é 2.000000\n",
      "Outro print"
     ]
    }
   ],
   "source": [
    "//%cflags:-lm\n",
    "//Diretivas de compilação podem ser usadas usando cflags\n",
    "//Foi utilizado -lm para a biblioteca math.h\n",
    "\n",
    "#include <stdio.h>\n",
    "#include <math.h>\n",
    "\n",
    "float raiz(float x)\n",
    "{\n",
    "    return sqrt(x);\n",
    "}\n",
    "\n",
    "int main() {\n",
    "    float n = 4.0;\n",
    "    printf(\"A raiz quadrada de %f é %f\\n\", n, raiz(n));\n",
    "    printf(\"Outro print\");\n",
    "}"
   ]
  },
  {
   "cell_type": "markdown",
   "metadata": {},
   "source": [
    "## Escrevendo um Módulo\n",
    "\n",
    "Dado um empréstimo X, escreva um módulo que ao ser chamado retorne a próxima parcela a ser paga."
   ]
  },
  {
   "cell_type": "code",
   "execution_count": null,
   "metadata": {},
   "outputs": [],
   "source": []
  },
  {
   "cell_type": "markdown",
   "metadata": {},
   "source": [
    "## Minimizando os Parâmetros\n",
    "\n",
    "Modifique o módulo para que o cliente (que chama o módulo) use o mínimo de parâmetros possíveis:\n",
    ". evite informar recorrentemente dados sobre as características do empréstimo;\n",
    ". evite usar informações de controle (e.g., parcela corrente) como parâmetro."
   ]
  },
  {
   "cell_type": "code",
   "execution_count": null,
   "metadata": {},
   "outputs": [],
   "source": []
  },
  {
   "cell_type": "markdown",
   "metadata": {},
   "source": [
    "## Múltiplos Empréstimos\n",
    "\n",
    "Considere que há múltiplos empréstimos que podem ser controlados em paralelo. O seu módulo deve sempre ser capaz de informar a pŕoxima parcela de qualquer um dele, mantendo um controle para cada empréstimos separadamente."
   ]
  },
  {
   "cell_type": "code",
   "execution_count": null,
   "metadata": {},
   "outputs": [],
   "source": []
  }
 ],
 "metadata": {
  "kernelspec": {
   "display_name": "C",
   "language": "c",
   "name": "c"
  },
  "language_info": {
   "file_extension": ".c",
   "mimetype": "text/plain",
   "name": "c"
  }
 },
 "nbformat": 4,
 "nbformat_minor": 2
}
