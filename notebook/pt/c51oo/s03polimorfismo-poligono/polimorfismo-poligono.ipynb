{
 "cells": [
  {
   "cell_type": "markdown",
   "metadata": {},
   "source": [
    "# Polimorfismo\n",
    "\n",
    "## Polimorfismo de Pessoas\n",
    "\n",
    "Abaixo uma classe que está sendo preparada para representar genericamente um polígono. Como o tipo de polígono específico está indefinido (por enquanto), o cálculo da sua área sempre retorna zero. Esta classe não faz sentido sozinha, mas ganhará sentido adiante, quando a usarmos para generalizar outras.\n",
    "\n",
    "Veja que no C++ há três formas de declarar variáveis que fazem referências a objetos:\n",
    "~~~cpp\n",
    "Poligono pol1(3, 8);\n",
    "Poligono pol2 = Poligono(6, 9);\n",
    "Poligono *pol3 = new Poligono(5, 10);\n",
    "~~~\n",
    "\n",
    "A primeira (`pol1`) declara uma variável da classe `Poligono` e chama o construtor implicitamente, passando os parâmetros na declaração.\n",
    "\n",
    "A segunda (`pol2`) transforma a chamada do construtor implícito em explícito. Exceto por isso, ela se comporta como `pol1`.\n",
    "\n",
    "Ambas `pol1` e `pol2` são variáveis que contêm a instância de um objeto dentro delas, da mesma maneira que uma variável inteira contém um inteiro. Ao contrário da maioria das linguagens modernas de orientação a objetos, elas não são ponteiros para objetos.\n",
    "\n",
    "A variável `pol3` é um ponteiro para um objeto da classe `Poligono`. Por essa razão, a sua instanciação exige o operador `new` que instancia o objeto e lhe passa a referência. Essa maneira é muito próxima ao modo como o `Java` e a maioria das linguagens modernas faz, entretando nas linguagens modernas o ponteiro não é explícito, ele fica mascarado.\n",
    "\n",
    "Veja que `pol3` também aciona seus métodos de maneira diferente, à moda dos ponteiros `pol3->getArea()`. A partir de agora só usaremos a notação de ponteiros.\n",
    "\n",
    "Tal como no Java, o objeto tem uma referência com ponteiro para si mesmo chamada `this`."
   ]
  },
  {
   "cell_type": "code",
   "execution_count": null,
   "metadata": {},
   "outputs": [],
   "source": [
    "#include <iostream>\n",
    "\n",
    "class Poligono {\n",
    "    private:\n",
    "       int altura;\n",
    "       int largura;\n",
    "    public:\n",
    "       Poligono(int altura, int largura) {\n",
    "           this->altura = altura;\n",
    "           this->largura = largura;\n",
    "       }\n",
    "    \n",
    "       int getAltura() {\n",
    "           return altura;\n",
    "       }\n",
    "    \n",
    "       int getLargura() {\n",
    "           return largura;\n",
    "       }\n",
    "    \n",
    "       float getArea() {\n",
    "           return 0;\n",
    "       }\n",
    "};\n",
    "\n",
    "Poligono pol1(3, 8);\n",
    "Poligono pol2 = Poligono(6, 9);\n",
    "Poligono *pol3 = new Poligono(5, 10);\n",
    "\n",
    "std::cout << \"Area do poligono 1: \" << pol1.getArea() << std::endl;\n",
    "std::cout << \"Area do poligono 2: \" << pol2.getArea() << std::endl;\n",
    "std::cout << \"Area do poligono 3: \" << pol3->getArea() << std::endl;"
   ]
  },
  {
   "cell_type": "markdown",
   "metadata": {},
   "source": [
    "# Herança\n",
    "\n",
    "A seguir são apresentadas duas classes herdeiras de `Poligono`. Para indicar a herança, a declaração da classe é seguida de dois pontos e a referência à superclasse:\n",
    "\n",
    "~~~cpp\n",
    "class TrianguloRetangulo : public Poligono\n",
    "~~~\n",
    "\n",
    "O construtor da classe herdeira pode indicar na sua declaração que iniciará chamando o construtor da superclasse. No exemplo a seguir, a classe `TrianguloRetangulo` está chamando o construtor da superclasse.\n",
    "\n",
    "~~~cpp\n",
    "TrianguloRetangulo(int altura, int largura) : Poligono(altura, largura)\n",
    "~~~\n",
    "\n",
    "Note que o método `getArea()` foi sobrescrito nas subclasses e passa a fazer sentido pois calcula a área do respectivo polígono."
   ]
  },
  {
   "cell_type": "code",
   "execution_count": 5,
   "metadata": {},
   "outputs": [
    {
     "name": "stdout",
     "output_type": "stream",
     "text": [
      "Área do triangulo retângulo: 30\n",
      "Área do retângulo: 60\n"
     ]
    }
   ],
   "source": [
    "#include <iostream>\n",
    "\n",
    "class TrianguloRetangulo : public Poligono {\n",
    "    public:\n",
    "       TrianguloRetangulo(int altura, int largura) : Poligono(altura, largura) {\n",
    "       }\n",
    "       float getArea() {\n",
    "           return getAltura() * getLargura() / 2;\n",
    "       }\n",
    "};\n",
    "\n",
    "class Retangulo : public Poligono {\n",
    "    public:\n",
    "       Retangulo(int altura, int largura) : Poligono(altura, largura) {\n",
    "       }\n",
    "       float getArea() {\n",
    "           return getAltura() * getLargura();\n",
    "       }\n",
    "};\n",
    "\n",
    "TrianguloRetangulo *tr = new TrianguloRetangulo(6, 10);\n",
    "Retangulo *rt = new Retangulo(6, 10);\n",
    "\n",
    "std::cout << \"Área do triangulo retângulo: \" << tr->getArea() << std::endl;\n",
    "std::cout << \"Área do retângulo: \" << rt->getArea() << std::endl;"
   ]
  },
  {
   "cell_type": "markdown",
   "metadata": {},
   "source": [
    "# Declarando na Superclasse e instanciando nos Herdeiros\n",
    "\n",
    "As linguagens orientadas a objetos possuem um recurso muito importante cuja utilidade você entenderá adiante. Você pode declarar um ponteiro como sendo de uma classe e pode instanciá-lo em qualquer herdeiro.\n",
    "\n",
    "O exemplo a seguir está corretamente escrito mas, antes de executá-lo, você deve pensar qual será a área calculada para o `TrianguloRetangulo` e o `Retangulo`."
   ]
  },
  {
   "cell_type": "code",
   "execution_count": 6,
   "metadata": {},
   "outputs": [
    {
     "name": "stdout",
     "output_type": "stream",
     "text": [
      "Área do triangulo retângulo: 0\n",
      "Área do retângulo: 0\n"
     ]
    }
   ],
   "source": [
    "Poligono *ptr = new TrianguloRetangulo(6, 10);\n",
    "Poligono *prt = new Retangulo(6, 10);\n",
    "\n",
    "std::cout << \"Área do triangulo retângulo: \" << ptr->getArea() << std::endl;\n",
    "std::cout << \"Área do retângulo: \" << prt->getArea() << std::endl;"
   ]
  },
  {
   "cell_type": "markdown",
   "metadata": {},
   "source": [
    "# Amarração Estática\n",
    "\n",
    "Suponho que a execução não saiu como você esperava. Você imagina que se você intanciou um objeto na classe `TrianguloRetangulo` ele deveria se comportar como tal. Mas não foi isso o que aconteceu porque o C++ fez uma amarração estática, ou seja, ele decidiu que método `getArea()` chamar na hora da compilação.\n",
    "\n",
    "Na compilação só é possível se estar seguro do tipo para o qual você decalrou o ponteiro, porque posteriormente você pode instanciá-lo em múltiplas classes. Então o compilador decide *amarrar* a chamada do método `getArea()` ao respectivo método da classe `Poligono` - classe em que os ponteiros foram declarados."
   ]
  },
  {
   "cell_type": "markdown",
   "metadata": {},
   "source": [
    "# Amarração Dinâmica\n",
    "\n",
    "Como veremos adiante, a amarração estática existe por questões de eficiência, pois o compilador resolve tudo antes, mas tem pouca utilidade na prática. Por essa razão, as linguagens de orientação a objetos modernas não possuem amarração estática, mas somente a dinâmica:\n",
    "\n",
    "## Amarração Dinâmica em C++\n",
    "\n",
    "Para fazer amarração dinâmica em C++ você precisa indicar isso no método que será sobrescrito através da cláusula `virtual`. Veja como está indicado na classe `Poligono` que seu método `getArea()`, quando sobrescrito, se comportará com amarração dinâmica:\n",
    "\n",
    "~~~cppp\n",
    "virtual float getArea()\n",
    "~~~\n",
    "\n",
    "Veja como desta vez os métodos se comportam como o esperado.\n",
    "\n",
    "Na amarração dinâmica a decisão do método a ser chamado é feita na hora da execução, ou seja, no momento que a instrução `pvtr->getArea()` é executada, se verificará a que classe a instância pertence e se fará a associação com o método. Maiores detalhes sobre isso serão discutidos em sala."
   ]
  },
  {
   "cell_type": "code",
   "execution_count": 7,
   "metadata": {},
   "outputs": [
    {
     "name": "stdout",
     "output_type": "stream",
     "text": [
      "Área do triangulo retângulo: 30\n",
      "Área do retângulo: 60\n"
     ]
    }
   ],
   "source": [
    "#include <iostream>\n",
    "\n",
    "class PoligonoV {\n",
    "    private:\n",
    "       int altura;\n",
    "       int largura;\n",
    "    public:\n",
    "       PoligonoV(int altura, int largura) {\n",
    "           this->altura = altura;\n",
    "           this->largura = largura;\n",
    "       }\n",
    "    \n",
    "       int getAltura() {\n",
    "           return altura;\n",
    "       }\n",
    "    \n",
    "       int getLargura() {\n",
    "           return largura;\n",
    "       }\n",
    "    \n",
    "       virtual float getArea() {\n",
    "           return 0;\n",
    "       }\n",
    "};\n",
    "\n",
    "class TrianguloRetanguloV : public PoligonoV {\n",
    "    public:\n",
    "       TrianguloRetanguloV(int altura, int largura) : PoligonoV(altura, largura) {\n",
    "       }\n",
    "       float getArea() {\n",
    "           return getAltura() * getLargura() / 2;\n",
    "       }\n",
    "};\n",
    "\n",
    "class RetanguloV : public PoligonoV {\n",
    "    public:\n",
    "       RetanguloV(int altura, int largura) : PoligonoV(altura, largura) {\n",
    "       }\n",
    "       float getArea() {\n",
    "           return getAltura() * getLargura();\n",
    "       }\n",
    "};\n",
    "\n",
    "PoligonoV *pvtr = new TrianguloRetanguloV(6, 10);\n",
    "PoligonoV *pvrt = new RetanguloV(6, 10);\n",
    "\n",
    "std::cout << \"Área do triangulo retângulo: \" << pvtr->getArea() << std::endl;\n",
    "std::cout << \"Área do retângulo: \" << pvrt->getArea() << std::endl;"
   ]
  },
  {
   "cell_type": "markdown",
   "metadata": {},
   "source": [
    "# Polimorfismo\n",
    "\n",
    "A esse comportamento, em que a referência pode ser declarada em uma superclasse e o método se comporta conforme a instância, chamamos de **Polimorfismo**. Estudaremos ele em detalhes em sala.\n",
    "\n",
    "Como a amarração estática tem pouca utilidade e pode causar confusão, as linguagens modernas como o `Java` só dispõe de amarração dinâmica e você não precisa de nenhuma cláusula especial para isso.\n",
    "\n",
    "Na sequência desse laboratório, abra a versão Java para ver esse conceito lá."
   ]
  }
 ],
 "metadata": {
  "kernelspec": {
   "display_name": "C++17",
   "language": "C++17",
   "name": "xeus-cling-cpp17"
  },
  "language_info": {
   "codemirror_mode": "text/x-c++src",
   "file_extension": ".cpp",
   "mimetype": "text/x-c++src",
   "name": "c++",
   "version": "-std=c++17"
  }
 },
 "nbformat": 4,
 "nbformat_minor": 4
}
