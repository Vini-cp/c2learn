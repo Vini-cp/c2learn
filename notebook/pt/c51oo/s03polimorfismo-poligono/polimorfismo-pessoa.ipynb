{
 "cells": [
  {
   "cell_type": "markdown",
   "metadata": {},
   "source": [
    "# Polimorfismo\n",
    "\n",
    "## Polimorfismo Simples - Hierarquia de Pessoas\n",
    "\n",
    "### Amarração Estática\n",
    "\n",
    "A seguir é apresentado um exemplo de Amarração Estática."
   ]
  },
  {
   "cell_type": "code",
   "execution_count": 1,
   "metadata": {},
   "outputs": [],
   "source": [
    "#include <string>\n",
    "\n",
    "using namespace std;\n",
    "\n",
    "class Alguem {\n",
    "   public:\n",
    "     string getNome() {\n",
    "        return \"Alguem (genericamente)\";\n",
    "     }\n",
    "};\n",
    "\n",
    "class Alcebiades : public Alguem {\n",
    "   public:\n",
    "     string getNome() {\n",
    "        return \"Alcebiades\";\n",
    "     }\n",
    "};\n",
    "\n",
    "class Melissa : public Alguem {\n",
    "   public:\n",
    "     string getNome() {\n",
    "        return \"Melissa\";\n",
    "     }\n",
    "};"
   ]
  },
  {
   "cell_type": "code",
   "execution_count": 2,
   "metadata": {},
   "outputs": [
    {
     "name": "stdout",
     "output_type": "stream",
     "text": [
      "Alguem (genericamente) trouxe o trombone\n",
      "Alcebiades trouxe o trombone\n",
      "Melissa trouxe o trombone\n"
     ]
    }
   ],
   "source": [
    "#include <iostream>\n",
    "\n",
    "using namespace std;\n",
    "\n",
    "Alguem *ag1 = new Alguem();\n",
    "Alcebiades *ac1 = new Alcebiades();\n",
    "Melissa *ml1 = new Melissa();\n",
    "\n",
    "cout << ag1->getNome() << \" trouxe o trombone\" << endl;\n",
    "cout << ac1->getNome() << \" trouxe o trombone\" << endl;\n",
    "cout << ml1->getNome() << \" trouxe o trombone\" << endl;"
   ]
  },
  {
   "cell_type": "code",
   "execution_count": 3,
   "metadata": {},
   "outputs": [
    {
     "name": "stdout",
     "output_type": "stream",
     "text": [
      "Alguem (genericamente) trouxe o trombone\n",
      "Alguem (genericamente) trouxe o trombone\n",
      "Alguem (genericamente) trouxe o trombone\n"
     ]
    }
   ],
   "source": [
    "#include <iostream>\n",
    "\n",
    "using namespace std;\n",
    "\n",
    "Alguem *ag2 = new Alguem();\n",
    "Alguem *ac2 = new Alcebiades();\n",
    "Alguem *ml2 = new Melissa();\n",
    "\n",
    "cout << ag2->getNome() << \" trouxe o trombone\" << endl;\n",
    "cout << ac2->getNome() << \" trouxe o trombone\" << endl;\n",
    "cout << ml2->getNome() << \" trouxe o trombone\" << endl;"
   ]
  }
 ],
 "metadata": {
  "kernelspec": {
   "display_name": "C++17",
   "language": "C++17",
   "name": "xeus-cling-cpp17"
  },
  "language_info": {
   "codemirror_mode": "text/x-c++src",
   "file_extension": ".cpp",
   "mimetype": "text/x-c++src",
   "name": "c++",
   "version": "-std=c++17"
  }
 },
 "nbformat": 4,
 "nbformat_minor": 4
}
